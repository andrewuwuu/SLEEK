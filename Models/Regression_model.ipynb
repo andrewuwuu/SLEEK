{
  "nbformat": 4,
  "nbformat_minor": 0,
  "metadata": {
    "colab": {
      "provenance": []
    },
    "kernelspec": {
      "name": "python3",
      "display_name": "Python 3"
    },
    "language_info": {
      "name": "python"
    }
  },
  "cells": [
    {
      "cell_type": "markdown",
      "source": [
        "# **Regression Model to Calculate User Daily Calorie Intake**"
      ],
      "metadata": {
        "id": "LwsRqoV2H9pz"
      }
    },
    {
      "cell_type": "markdown",
      "source": [
        "## **1. Importing Libraries and Loading Data**"
      ],
      "metadata": {
        "id": "hn7daWf5ICDS"
      }
    },
    {
      "cell_type": "code",
      "execution_count": 2,
      "metadata": {
        "id": "6_sBWhZsH9AL"
      },
      "outputs": [],
      "source": [
        "import tensorflow as tf\n",
        "import pandas as pd\n",
        "from sklearn.model_selection import train_test_split\n",
        "from sklearn.preprocessing import StandardScaler\n",
        "import numpy as np\n",
        "\n",
        "data_path = 'bodyPerformance.csv'\n",
        "data = pd.read_csv(data_path)"
      ]
    },
    {
      "cell_type": "markdown",
      "source": [
        "## **2. Selecting and Cleaning Data**"
      ],
      "metadata": {
        "id": "3YVkY62HIKEJ"
      }
    },
    {
      "cell_type": "code",
      "source": [
        "data = data[['age', 'gender', 'height_cm', 'weight_kg']]\n",
        "\n",
        "data.dropna(inplace=True)\n",
        "\n",
        "data['gender'] = data['gender'].map({'Male': 1, 'Female': 0})\n",
        "\n",
        "for col in ['height_cm', 'weight_kg']:\n",
        "    q1 = data[col].quantile(0.25)\n",
        "    q3 = data[col].quantile(0.75)\n",
        "    iqr = q3 - q1\n",
        "    lower_bound = q1 - 1.5 * iqr\n",
        "    upper_bound = q3 + 1.5 * iqr\n",
        "    data = data[(data[col] >= lower_bound) & (data[col] <= upper_bound)]\n"
      ],
      "metadata": {
        "id": "5CYaHtW0INYE"
      },
      "execution_count": 3,
      "outputs": []
    },
    {
      "cell_type": "markdown",
      "source": [
        "## **3. Calculating BMR**"
      ],
      "metadata": {
        "id": "nwBSppcpIQYB"
      }
    },
    {
      "cell_type": "code",
      "source": [
        "def calculate_bmr(row):\n",
        "    if row['gender'] == 1:\n",
        "        return 88.362 + (13.397 * row['weight_kg']) + (4.799 * row['height_cm']) - (5.677 * row['age'])\n",
        "    else:\n",
        "        return 447.593 + (9.247 * row['weight_kg']) + (3.098 * row['height_cm']) - (4.330 * row['age'])\n",
        "\n",
        "df = pd.DataFrame(data)\n",
        "df['BMR'] = df.apply(calculate_bmr, axis=1)\n"
      ],
      "metadata": {
        "id": "-89CP7LoITX6"
      },
      "execution_count": 4,
      "outputs": []
    },
    {
      "cell_type": "markdown",
      "source": [
        "## **4. Preparing Features and Target**"
      ],
      "metadata": {
        "id": "Tq-dl1qcIXcA"
      }
    },
    {
      "cell_type": "code",
      "source": [
        "X = df[['age', 'gender', 'height_cm', 'weight_kg']]\n",
        "y = df['BMR']\n"
      ],
      "metadata": {
        "id": "aqEX9GsqIbGd"
      },
      "execution_count": 5,
      "outputs": []
    },
    {
      "cell_type": "markdown",
      "source": [
        "## **5. Splitting the Data**"
      ],
      "metadata": {
        "id": "yUrWVjNQIdEm"
      }
    },
    {
      "cell_type": "code",
      "source": [
        "X_train, X_test, y_train, y_test = train_test_split(X, y, test_size=0.2, random_state=42)\n",
        "X_train, X_val, y_train, y_val = train_test_split(X_train, y_train, test_size=0.25, random_state=42)\n"
      ],
      "metadata": {
        "id": "DbrW45pmIgXV"
      },
      "execution_count": 6,
      "outputs": []
    },
    {
      "cell_type": "markdown",
      "source": [
        "## **6. Scaling the Features**"
      ],
      "metadata": {
        "id": "v_IOpn9uIh2e"
      }
    },
    {
      "cell_type": "code",
      "source": [
        "scaler = StandardScaler()\n",
        "X_train = scaler.fit_transform(X_train)\n",
        "X_val = scaler.transform(X_val)\n",
        "X_test = scaler.transform(X_test)\n",
        "\n",
        "X_train = np.nan_to_num(X_train)\n",
        "X_val = np.nan_to_num(X_val)\n",
        "X_test = np.nan_to_num(X_test)\n",
        "y_train = np.nan_to_num(y_train)\n",
        "y_val = np.nan_to_num(y_val)\n",
        "y_test = np.nan_to_num(y_test)\n"
      ],
      "metadata": {
        "colab": {
          "base_uri": "https://localhost:8080/"
        },
        "id": "EzYqRXtfIntS",
        "outputId": "e5b3e089-ac48-4f41-a9b9-89c7c64aa2e5"
      },
      "execution_count": 7,
      "outputs": [
        {
          "output_type": "stream",
          "name": "stderr",
          "text": [
            "/usr/local/lib/python3.10/dist-packages/sklearn/utils/extmath.py:1137: RuntimeWarning: invalid value encountered in divide\n",
            "  updated_mean = (last_sum + new_sum) / updated_sample_count\n",
            "/usr/local/lib/python3.10/dist-packages/sklearn/utils/extmath.py:1142: RuntimeWarning: invalid value encountered in divide\n",
            "  T = new_sum / new_sample_count\n",
            "/usr/local/lib/python3.10/dist-packages/sklearn/utils/extmath.py:1162: RuntimeWarning: invalid value encountered in divide\n",
            "  new_unnormalized_variance -= correction**2 / new_sample_count\n"
          ]
        }
      ]
    },
    {
      "cell_type": "markdown",
      "source": [
        "## **7. Building the Model**"
      ],
      "metadata": {
        "id": "nMqQubw7Ipzb"
      }
    },
    {
      "cell_type": "code",
      "source": [
        "model = tf.keras.Sequential([\n",
        "    tf.keras.layers.Dense(64, activation='relu', input_shape=(X_train.shape[1],), kernel_regularizer=tf.keras.regularizers.l2(0.01)),\n",
        "    tf.keras.layers.Dense(32, activation='relu'),\n",
        "    tf.keras.layers.Dense(16, activation='relu'),\n",
        "    tf.keras.layers.Dense(1)\n",
        "])\n",
        "\n",
        "model.compile(optimizer=tf.keras.optimizers.Adam(learning_rate=0.001),\n",
        "              loss=tf.keras.losses.MeanSquaredError(),\n",
        "              metrics=[tf.keras.metrics.MeanAbsoluteError()])\n"
      ],
      "metadata": {
        "colab": {
          "base_uri": "https://localhost:8080/"
        },
        "id": "sswljUIWIsHc",
        "outputId": "6b792734-4b43-464e-8476-a4233cffa3e3"
      },
      "execution_count": 8,
      "outputs": [
        {
          "output_type": "stream",
          "name": "stderr",
          "text": [
            "/usr/local/lib/python3.10/dist-packages/keras/src/layers/core/dense.py:87: UserWarning: Do not pass an `input_shape`/`input_dim` argument to a layer. When using Sequential models, prefer using an `Input(shape)` object as the first layer in the model instead.\n",
            "  super().__init__(activity_regularizer=activity_regularizer, **kwargs)\n"
          ]
        }
      ]
    },
    {
      "cell_type": "markdown",
      "source": [
        "## **8. Training the Model**"
      ],
      "metadata": {
        "id": "10vuKFGbIuIf"
      }
    },
    {
      "cell_type": "code",
      "source": [
        "history = model.fit(\n",
        "    X_train, y_train,\n",
        "    validation_data=(X_val, y_val),\n",
        "    epochs=100,\n",
        "    batch_size=32,\n",
        "    verbose=1\n",
        ")"
      ],
      "metadata": {
        "colab": {
          "base_uri": "https://localhost:8080/"
        },
        "id": "0Qbh7ETEIyKT",
        "outputId": "482ce46c-1503-4aa5-d24e-4eab74d0b196"
      },
      "execution_count": 9,
      "outputs": [
        {
          "output_type": "stream",
          "name": "stdout",
          "text": [
            "Epoch 1/100\n",
            "\u001b[1m250/250\u001b[0m \u001b[32m━━━━━━━━━━━━━━━━━━━━\u001b[0m\u001b[37m\u001b[0m \u001b[1m3s\u001b[0m 3ms/step - loss: 1984606.1250 - mean_absolute_error: 1398.4547 - val_loss: 480197.0938 - val_mean_absolute_error: 654.0505\n",
            "Epoch 2/100\n",
            "\u001b[1m250/250\u001b[0m \u001b[32m━━━━━━━━━━━━━━━━━━━━\u001b[0m\u001b[37m\u001b[0m \u001b[1m1s\u001b[0m 3ms/step - loss: 213113.8594 - mean_absolute_error: 393.7152 - val_loss: 51347.6758 - val_mean_absolute_error: 183.3321\n",
            "Epoch 3/100\n",
            "\u001b[1m250/250\u001b[0m \u001b[32m━━━━━━━━━━━━━━━━━━━━\u001b[0m\u001b[37m\u001b[0m \u001b[1m1s\u001b[0m 5ms/step - loss: 38957.5000 - mean_absolute_error: 155.7773 - val_loss: 17792.1348 - val_mean_absolute_error: 107.2290\n",
            "Epoch 4/100\n",
            "\u001b[1m250/250\u001b[0m \u001b[32m━━━━━━━━━━━━━━━━━━━━\u001b[0m\u001b[37m\u001b[0m \u001b[1m1s\u001b[0m 4ms/step - loss: 14837.3281 - mean_absolute_error: 96.7843 - val_loss: 7768.9043 - val_mean_absolute_error: 69.8812\n",
            "Epoch 5/100\n",
            "\u001b[1m250/250\u001b[0m \u001b[32m━━━━━━━━━━━━━━━━━━━━\u001b[0m\u001b[37m\u001b[0m \u001b[1m1s\u001b[0m 5ms/step - loss: 6623.4468 - mean_absolute_error: 63.2569 - val_loss: 3526.3279 - val_mean_absolute_error: 45.3765\n",
            "Epoch 6/100\n",
            "\u001b[1m250/250\u001b[0m \u001b[32m━━━━━━━━━━━━━━━━━━━━\u001b[0m\u001b[37m\u001b[0m \u001b[1m2s\u001b[0m 3ms/step - loss: 3184.9963 - mean_absolute_error: 42.2484 - val_loss: 1732.4231 - val_mean_absolute_error: 31.3055\n",
            "Epoch 7/100\n",
            "\u001b[1m250/250\u001b[0m \u001b[32m━━━━━━━━━━━━━━━━━━━━\u001b[0m\u001b[37m\u001b[0m \u001b[1m1s\u001b[0m 3ms/step - loss: 1568.9125 - mean_absolute_error: 28.9710 - val_loss: 936.9559 - val_mean_absolute_error: 22.9902\n",
            "Epoch 8/100\n",
            "\u001b[1m250/250\u001b[0m \u001b[32m━━━━━━━━━━━━━━━━━━━━\u001b[0m\u001b[37m\u001b[0m \u001b[1m1s\u001b[0m 3ms/step - loss: 893.6783 - mean_absolute_error: 21.7185 - val_loss: 545.1567 - val_mean_absolute_error: 17.5119\n",
            "Epoch 9/100\n",
            "\u001b[1m250/250\u001b[0m \u001b[32m━━━━━━━━━━━━━━━━━━━━\u001b[0m\u001b[37m\u001b[0m \u001b[1m1s\u001b[0m 3ms/step - loss: 542.5396 - mean_absolute_error: 17.0829 - val_loss: 353.4642 - val_mean_absolute_error: 13.9980\n",
            "Epoch 10/100\n",
            "\u001b[1m250/250\u001b[0m \u001b[32m━━━━━━━━━━━━━━━━━━━━\u001b[0m\u001b[37m\u001b[0m \u001b[1m1s\u001b[0m 3ms/step - loss: 340.5357 - mean_absolute_error: 13.4274 - val_loss: 234.8945 - val_mean_absolute_error: 11.3370\n",
            "Epoch 11/100\n",
            "\u001b[1m250/250\u001b[0m \u001b[32m━━━━━━━━━━━━━━━━━━━━\u001b[0m\u001b[37m\u001b[0m \u001b[1m2s\u001b[0m 5ms/step - loss: 234.9964 - mean_absolute_error: 11.0688 - val_loss: 166.4952 - val_mean_absolute_error: 9.4551\n",
            "Epoch 12/100\n",
            "\u001b[1m250/250\u001b[0m \u001b[32m━━━━━━━━━━━━━━━━━━━━\u001b[0m\u001b[37m\u001b[0m \u001b[1m1s\u001b[0m 4ms/step - loss: 168.8033 - mean_absolute_error: 9.1496 - val_loss: 117.9762 - val_mean_absolute_error: 7.6253\n",
            "Epoch 13/100\n",
            "\u001b[1m250/250\u001b[0m \u001b[32m━━━━━━━━━━━━━━━━━━━━\u001b[0m\u001b[37m\u001b[0m \u001b[1m1s\u001b[0m 4ms/step - loss: 117.4899 - mean_absolute_error: 7.6226 - val_loss: 86.6763 - val_mean_absolute_error: 6.4758\n",
            "Epoch 14/100\n",
            "\u001b[1m250/250\u001b[0m \u001b[32m━━━━━━━━━━━━━━━━━━━━\u001b[0m\u001b[37m\u001b[0m \u001b[1m2s\u001b[0m 7ms/step - loss: 78.9493 - mean_absolute_error: 6.1343 - val_loss: 60.0397 - val_mean_absolute_error: 5.3232\n",
            "Epoch 15/100\n",
            "\u001b[1m250/250\u001b[0m \u001b[32m━━━━━━━━━━━━━━━━━━━━\u001b[0m\u001b[37m\u001b[0m \u001b[1m2s\u001b[0m 6ms/step - loss: 66.6582 - mean_absolute_error: 5.3749 - val_loss: 45.9683 - val_mean_absolute_error: 4.9136\n",
            "Epoch 16/100\n",
            "\u001b[1m250/250\u001b[0m \u001b[32m━━━━━━━━━━━━━━━━━━━━\u001b[0m\u001b[37m\u001b[0m \u001b[1m1s\u001b[0m 4ms/step - loss: 44.2802 - mean_absolute_error: 4.4237 - val_loss: 33.1679 - val_mean_absolute_error: 3.8613\n",
            "Epoch 17/100\n",
            "\u001b[1m250/250\u001b[0m \u001b[32m━━━━━━━━━━━━━━━━━━━━\u001b[0m\u001b[37m\u001b[0m \u001b[1m1s\u001b[0m 5ms/step - loss: 37.8322 - mean_absolute_error: 3.7756 - val_loss: 25.2115 - val_mean_absolute_error: 3.4451\n",
            "Epoch 18/100\n",
            "\u001b[1m250/250\u001b[0m \u001b[32m━━━━━━━━━━━━━━━━━━━━\u001b[0m\u001b[37m\u001b[0m \u001b[1m1s\u001b[0m 5ms/step - loss: 27.9099 - mean_absolute_error: 3.3231 - val_loss: 19.7352 - val_mean_absolute_error: 2.7263\n",
            "Epoch 19/100\n",
            "\u001b[1m250/250\u001b[0m \u001b[32m━━━━━━━━━━━━━━━━━━━━\u001b[0m\u001b[37m\u001b[0m \u001b[1m1s\u001b[0m 3ms/step - loss: 20.1567 - mean_absolute_error: 2.8330 - val_loss: 15.0148 - val_mean_absolute_error: 2.4386\n",
            "Epoch 20/100\n",
            "\u001b[1m250/250\u001b[0m \u001b[32m━━━━━━━━━━━━━━━━━━━━\u001b[0m\u001b[37m\u001b[0m \u001b[1m1s\u001b[0m 3ms/step - loss: 16.4689 - mean_absolute_error: 2.5653 - val_loss: 11.8205 - val_mean_absolute_error: 2.2829\n",
            "Epoch 21/100\n",
            "\u001b[1m250/250\u001b[0m \u001b[32m━━━━━━━━━━━━━━━━━━━━\u001b[0m\u001b[37m\u001b[0m \u001b[1m1s\u001b[0m 3ms/step - loss: 13.4325 - mean_absolute_error: 2.2513 - val_loss: 9.4883 - val_mean_absolute_error: 1.9138\n",
            "Epoch 22/100\n",
            "\u001b[1m250/250\u001b[0m \u001b[32m━━━━━━━━━━━━━━━━━━━━\u001b[0m\u001b[37m\u001b[0m \u001b[1m1s\u001b[0m 2ms/step - loss: 9.0468 - mean_absolute_error: 1.9075 - val_loss: 8.5085 - val_mean_absolute_error: 1.6643\n",
            "Epoch 23/100\n",
            "\u001b[1m250/250\u001b[0m \u001b[32m━━━━━━━━━━━━━━━━━━━━\u001b[0m\u001b[37m\u001b[0m \u001b[1m1s\u001b[0m 3ms/step - loss: 8.7288 - mean_absolute_error: 1.8227 - val_loss: 7.7955 - val_mean_absolute_error: 1.8717\n",
            "Epoch 24/100\n",
            "\u001b[1m250/250\u001b[0m \u001b[32m━━━━━━━━━━━━━━━━━━━━\u001b[0m\u001b[37m\u001b[0m \u001b[1m2s\u001b[0m 5ms/step - loss: 7.7212 - mean_absolute_error: 1.6526 - val_loss: 5.5979 - val_mean_absolute_error: 1.3346\n",
            "Epoch 25/100\n",
            "\u001b[1m250/250\u001b[0m \u001b[32m━━━━━━━━━━━━━━━━━━━━\u001b[0m\u001b[37m\u001b[0m \u001b[1m1s\u001b[0m 5ms/step - loss: 6.1241 - mean_absolute_error: 1.4190 - val_loss: 4.8378 - val_mean_absolute_error: 1.2792\n",
            "Epoch 26/100\n",
            "\u001b[1m250/250\u001b[0m \u001b[32m━━━━━━━━━━━━━━━━━━━━\u001b[0m\u001b[37m\u001b[0m \u001b[1m2s\u001b[0m 3ms/step - loss: 5.1111 - mean_absolute_error: 1.2696 - val_loss: 3.5569 - val_mean_absolute_error: 0.9834\n",
            "Epoch 27/100\n",
            "\u001b[1m250/250\u001b[0m \u001b[32m━━━━━━━━━━━━━━━━━━━━\u001b[0m\u001b[37m\u001b[0m \u001b[1m1s\u001b[0m 3ms/step - loss: 4.1145 - mean_absolute_error: 1.0723 - val_loss: 2.9579 - val_mean_absolute_error: 0.8246\n",
            "Epoch 28/100\n",
            "\u001b[1m250/250\u001b[0m \u001b[32m━━━━━━━━━━━━━━━━━━━━\u001b[0m\u001b[37m\u001b[0m \u001b[1m1s\u001b[0m 3ms/step - loss: 4.2715 - mean_absolute_error: 1.0427 - val_loss: 2.6311 - val_mean_absolute_error: 0.8770\n",
            "Epoch 29/100\n",
            "\u001b[1m250/250\u001b[0m \u001b[32m━━━━━━━━━━━━━━━━━━━━\u001b[0m\u001b[37m\u001b[0m \u001b[1m1s\u001b[0m 3ms/step - loss: 4.4102 - mean_absolute_error: 0.9735 - val_loss: 2.3713 - val_mean_absolute_error: 0.8413\n",
            "Epoch 30/100\n",
            "\u001b[1m250/250\u001b[0m \u001b[32m━━━━━━━━━━━━━━━━━━━━\u001b[0m\u001b[37m\u001b[0m \u001b[1m1s\u001b[0m 3ms/step - loss: 1.9661 - mean_absolute_error: 0.7860 - val_loss: 1.8950 - val_mean_absolute_error: 0.6886\n",
            "Epoch 31/100\n",
            "\u001b[1m250/250\u001b[0m \u001b[32m━━━━━━━━━━━━━━━━━━━━\u001b[0m\u001b[37m\u001b[0m \u001b[1m1s\u001b[0m 3ms/step - loss: 3.6805 - mean_absolute_error: 0.7918 - val_loss: 1.8032 - val_mean_absolute_error: 0.7230\n",
            "Epoch 32/100\n",
            "\u001b[1m250/250\u001b[0m \u001b[32m━━━━━━━━━━━━━━━━━━━━\u001b[0m\u001b[37m\u001b[0m \u001b[1m2s\u001b[0m 5ms/step - loss: 1.9716 - mean_absolute_error: 0.6617 - val_loss: 1.3513 - val_mean_absolute_error: 0.6853\n",
            "Epoch 33/100\n",
            "\u001b[1m250/250\u001b[0m \u001b[32m━━━━━━━━━━━━━━━━━━━━\u001b[0m\u001b[37m\u001b[0m \u001b[1m1s\u001b[0m 4ms/step - loss: 1.1474 - mean_absolute_error: 0.5767 - val_loss: 1.4780 - val_mean_absolute_error: 0.6837\n",
            "Epoch 34/100\n",
            "\u001b[1m250/250\u001b[0m \u001b[32m━━━━━━━━━━━━━━━━━━━━\u001b[0m\u001b[37m\u001b[0m \u001b[1m3s\u001b[0m 9ms/step - loss: 2.3158 - mean_absolute_error: 0.6987 - val_loss: 0.9555 - val_mean_absolute_error: 0.4728\n",
            "Epoch 35/100\n",
            "\u001b[1m250/250\u001b[0m \u001b[32m━━━━━━━━━━━━━━━━━━━━\u001b[0m\u001b[37m\u001b[0m \u001b[1m2s\u001b[0m 8ms/step - loss: 0.7588 - mean_absolute_error: 0.5005 - val_loss: 4.0151 - val_mean_absolute_error: 1.6458\n",
            "Epoch 36/100\n",
            "\u001b[1m250/250\u001b[0m \u001b[32m━━━━━━━━━━━━━━━━━━━━\u001b[0m\u001b[37m\u001b[0m \u001b[1m2s\u001b[0m 7ms/step - loss: 1.2496 - mean_absolute_error: 0.6419 - val_loss: 0.8140 - val_mean_absolute_error: 0.4365\n",
            "Epoch 37/100\n",
            "\u001b[1m250/250\u001b[0m \u001b[32m━━━━━━━━━━━━━━━━━━━━\u001b[0m\u001b[37m\u001b[0m \u001b[1m1s\u001b[0m 5ms/step - loss: 1.1973 - mean_absolute_error: 0.5425 - val_loss: 0.6757 - val_mean_absolute_error: 0.4149\n",
            "Epoch 38/100\n",
            "\u001b[1m250/250\u001b[0m \u001b[32m━━━━━━━━━━━━━━━━━━━━\u001b[0m\u001b[37m\u001b[0m \u001b[1m1s\u001b[0m 5ms/step - loss: 0.9539 - mean_absolute_error: 0.4859 - val_loss: 0.5642 - val_mean_absolute_error: 0.3581\n",
            "Epoch 39/100\n",
            "\u001b[1m250/250\u001b[0m \u001b[32m━━━━━━━━━━━━━━━━━━━━\u001b[0m\u001b[37m\u001b[0m \u001b[1m2s\u001b[0m 3ms/step - loss: 0.5716 - mean_absolute_error: 0.3640 - val_loss: 0.4006 - val_mean_absolute_error: 0.2011\n",
            "Epoch 40/100\n",
            "\u001b[1m250/250\u001b[0m \u001b[32m━━━━━━━━━━━━━━━━━━━━\u001b[0m\u001b[37m\u001b[0m \u001b[1m2s\u001b[0m 4ms/step - loss: 0.8156 - mean_absolute_error: 0.4130 - val_loss: 0.3602 - val_mean_absolute_error: 0.2235\n",
            "Epoch 41/100\n",
            "\u001b[1m250/250\u001b[0m \u001b[32m━━━━━━━━━━━━━━━━━━━━\u001b[0m\u001b[37m\u001b[0m \u001b[1m1s\u001b[0m 4ms/step - loss: 0.3487 - mean_absolute_error: 0.3366 - val_loss: 0.4131 - val_mean_absolute_error: 0.3832\n",
            "Epoch 42/100\n",
            "\u001b[1m250/250\u001b[0m \u001b[32m━━━━━━━━━━━━━━━━━━━━\u001b[0m\u001b[37m\u001b[0m \u001b[1m2s\u001b[0m 7ms/step - loss: 0.6821 - mean_absolute_error: 0.4875 - val_loss: 0.2659 - val_mean_absolute_error: 0.1933\n",
            "Epoch 43/100\n",
            "\u001b[1m250/250\u001b[0m \u001b[32m━━━━━━━━━━━━━━━━━━━━\u001b[0m\u001b[37m\u001b[0m \u001b[1m3s\u001b[0m 8ms/step - loss: 0.5434 - mean_absolute_error: 0.4033 - val_loss: 0.2790 - val_mean_absolute_error: 0.2816\n",
            "Epoch 44/100\n",
            "\u001b[1m250/250\u001b[0m \u001b[32m━━━━━━━━━━━━━━━━━━━━\u001b[0m\u001b[37m\u001b[0m \u001b[1m1s\u001b[0m 4ms/step - loss: 0.2787 - mean_absolute_error: 0.3142 - val_loss: 0.6935 - val_mean_absolute_error: 0.5955\n",
            "Epoch 45/100\n",
            "\u001b[1m250/250\u001b[0m \u001b[32m━━━━━━━━━━━━━━━━━━━━\u001b[0m\u001b[37m\u001b[0m \u001b[1m1s\u001b[0m 5ms/step - loss: 0.2855 - mean_absolute_error: 0.3258 - val_loss: 0.6491 - val_mean_absolute_error: 0.5754\n",
            "Epoch 46/100\n",
            "\u001b[1m250/250\u001b[0m \u001b[32m━━━━━━━━━━━━━━━━━━━━\u001b[0m\u001b[37m\u001b[0m \u001b[1m1s\u001b[0m 4ms/step - loss: 0.3517 - mean_absolute_error: 0.3603 - val_loss: 0.2663 - val_mean_absolute_error: 0.2828\n",
            "Epoch 47/100\n",
            "\u001b[1m250/250\u001b[0m \u001b[32m━━━━━━━━━━━━━━━━━━━━\u001b[0m\u001b[37m\u001b[0m \u001b[1m1s\u001b[0m 4ms/step - loss: 0.2883 - mean_absolute_error: 0.3105 - val_loss: 0.3438 - val_mean_absolute_error: 0.3952\n",
            "Epoch 48/100\n",
            "\u001b[1m250/250\u001b[0m \u001b[32m━━━━━━━━━━━━━━━━━━━━\u001b[0m\u001b[37m\u001b[0m \u001b[1m1s\u001b[0m 4ms/step - loss: 0.3309 - mean_absolute_error: 0.3526 - val_loss: 0.2200 - val_mean_absolute_error: 0.2694\n",
            "Epoch 49/100\n",
            "\u001b[1m250/250\u001b[0m \u001b[32m━━━━━━━━━━━━━━━━━━━━\u001b[0m\u001b[37m\u001b[0m \u001b[1m1s\u001b[0m 3ms/step - loss: 0.3269 - mean_absolute_error: 0.3197 - val_loss: 0.3163 - val_mean_absolute_error: 0.3444\n",
            "Epoch 50/100\n",
            "\u001b[1m250/250\u001b[0m \u001b[32m━━━━━━━━━━━━━━━━━━━━\u001b[0m\u001b[37m\u001b[0m \u001b[1m1s\u001b[0m 3ms/step - loss: 0.3012 - mean_absolute_error: 0.2989 - val_loss: 1.1151 - val_mean_absolute_error: 0.8392\n",
            "Epoch 51/100\n",
            "\u001b[1m250/250\u001b[0m \u001b[32m━━━━━━━━━━━━━━━━━━━━\u001b[0m\u001b[37m\u001b[0m \u001b[1m1s\u001b[0m 2ms/step - loss: 1.1718 - mean_absolute_error: 0.7901 - val_loss: 0.1442 - val_mean_absolute_error: 0.1389\n",
            "Epoch 52/100\n",
            "\u001b[1m250/250\u001b[0m \u001b[32m━━━━━━━━━━━━━━━━━━━━\u001b[0m\u001b[37m\u001b[0m \u001b[1m1s\u001b[0m 3ms/step - loss: 0.1423 - mean_absolute_error: 0.1973 - val_loss: 0.2398 - val_mean_absolute_error: 0.2758\n",
            "Epoch 53/100\n",
            "\u001b[1m250/250\u001b[0m \u001b[32m━━━━━━━━━━━━━━━━━━━━\u001b[0m\u001b[37m\u001b[0m \u001b[1m1s\u001b[0m 4ms/step - loss: 0.1911 - mean_absolute_error: 0.2577 - val_loss: 0.3017 - val_mean_absolute_error: 0.4126\n",
            "Epoch 54/100\n",
            "\u001b[1m250/250\u001b[0m \u001b[32m━━━━━━━━━━━━━━━━━━━━\u001b[0m\u001b[37m\u001b[0m \u001b[1m2s\u001b[0m 8ms/step - loss: 0.3295 - mean_absolute_error: 0.3924 - val_loss: 0.6713 - val_mean_absolute_error: 0.6110\n",
            "Epoch 55/100\n",
            "\u001b[1m250/250\u001b[0m \u001b[32m━━━━━━━━━━━━━━━━━━━━\u001b[0m\u001b[37m\u001b[0m \u001b[1m2s\u001b[0m 9ms/step - loss: 1.1994 - mean_absolute_error: 0.7083 - val_loss: 0.1613 - val_mean_absolute_error: 0.2089\n",
            "Epoch 56/100\n",
            "\u001b[1m250/250\u001b[0m \u001b[32m━━━━━━━━━━━━━━━━━━━━\u001b[0m\u001b[37m\u001b[0m \u001b[1m2s\u001b[0m 7ms/step - loss: 0.2548 - mean_absolute_error: 0.3504 - val_loss: 2.4401 - val_mean_absolute_error: 1.4492\n",
            "Epoch 57/100\n",
            "\u001b[1m250/250\u001b[0m \u001b[32m━━━━━━━━━━━━━━━━━━━━\u001b[0m\u001b[37m\u001b[0m \u001b[1m3s\u001b[0m 8ms/step - loss: 0.7189 - mean_absolute_error: 0.5592 - val_loss: 0.1000 - val_mean_absolute_error: 0.0506\n",
            "Epoch 58/100\n",
            "\u001b[1m250/250\u001b[0m \u001b[32m━━━━━━━━━━━━━━━━━━━━\u001b[0m\u001b[37m\u001b[0m \u001b[1m2s\u001b[0m 6ms/step - loss: 0.1088 - mean_absolute_error: 0.1435 - val_loss: 0.1619 - val_mean_absolute_error: 0.2138\n",
            "Epoch 59/100\n",
            "\u001b[1m250/250\u001b[0m \u001b[32m━━━━━━━━━━━━━━━━━━━━\u001b[0m\u001b[37m\u001b[0m \u001b[1m2s\u001b[0m 7ms/step - loss: 0.1418 - mean_absolute_error: 0.1917 - val_loss: 0.4292 - val_mean_absolute_error: 0.4530\n",
            "Epoch 60/100\n",
            "\u001b[1m250/250\u001b[0m \u001b[32m━━━━━━━━━━━━━━━━━━━━\u001b[0m\u001b[37m\u001b[0m \u001b[1m3s\u001b[0m 9ms/step - loss: 1.0986 - mean_absolute_error: 0.7333 - val_loss: 0.4825 - val_mean_absolute_error: 0.5556\n",
            "Epoch 61/100\n",
            "\u001b[1m250/250\u001b[0m \u001b[32m━━━━━━━━━━━━━━━━━━━━\u001b[0m\u001b[37m\u001b[0m \u001b[1m1s\u001b[0m 4ms/step - loss: 0.4890 - mean_absolute_error: 0.5055 - val_loss: 0.1117 - val_mean_absolute_error: 0.1256\n",
            "Epoch 62/100\n",
            "\u001b[1m250/250\u001b[0m \u001b[32m━━━━━━━━━━━━━━━━━━━━\u001b[0m\u001b[37m\u001b[0m \u001b[1m1s\u001b[0m 2ms/step - loss: 0.1434 - mean_absolute_error: 0.2337 - val_loss: 2.1415 - val_mean_absolute_error: 1.2621\n",
            "Epoch 63/100\n",
            "\u001b[1m250/250\u001b[0m \u001b[32m━━━━━━━━━━━━━━━━━━━━\u001b[0m\u001b[37m\u001b[0m \u001b[1m1s\u001b[0m 3ms/step - loss: 1.3217 - mean_absolute_error: 0.7639 - val_loss: 0.1269 - val_mean_absolute_error: 0.1713\n",
            "Epoch 64/100\n",
            "\u001b[1m250/250\u001b[0m \u001b[32m━━━━━━━━━━━━━━━━━━━━\u001b[0m\u001b[37m\u001b[0m \u001b[1m1s\u001b[0m 3ms/step - loss: 0.1633 - mean_absolute_error: 0.2364 - val_loss: 0.1245 - val_mean_absolute_error: 0.1648\n",
            "Epoch 65/100\n",
            "\u001b[1m250/250\u001b[0m \u001b[32m━━━━━━━━━━━━━━━━━━━━\u001b[0m\u001b[37m\u001b[0m \u001b[1m1s\u001b[0m 3ms/step - loss: 0.4308 - mean_absolute_error: 0.3647 - val_loss: 0.2042 - val_mean_absolute_error: 0.2793\n",
            "Epoch 66/100\n",
            "\u001b[1m250/250\u001b[0m \u001b[32m━━━━━━━━━━━━━━━━━━━━\u001b[0m\u001b[37m\u001b[0m \u001b[1m1s\u001b[0m 2ms/step - loss: 0.1547 - mean_absolute_error: 0.2389 - val_loss: 0.4523 - val_mean_absolute_error: 0.6009\n",
            "Epoch 67/100\n",
            "\u001b[1m250/250\u001b[0m \u001b[32m━━━━━━━━━━━━━━━━━━━━\u001b[0m\u001b[37m\u001b[0m \u001b[1m1s\u001b[0m 3ms/step - loss: 0.1830 - mean_absolute_error: 0.2450 - val_loss: 0.1157 - val_mean_absolute_error: 0.1509\n",
            "Epoch 68/100\n",
            "\u001b[1m250/250\u001b[0m \u001b[32m━━━━━━━━━━━━━━━━━━━━\u001b[0m\u001b[37m\u001b[0m \u001b[1m1s\u001b[0m 3ms/step - loss: 0.1074 - mean_absolute_error: 0.1632 - val_loss: 0.0924 - val_mean_absolute_error: 0.0851\n",
            "Epoch 69/100\n",
            "\u001b[1m250/250\u001b[0m \u001b[32m━━━━━━━━━━━━━━━━━━━━\u001b[0m\u001b[37m\u001b[0m \u001b[1m1s\u001b[0m 2ms/step - loss: 0.0936 - mean_absolute_error: 0.1309 - val_loss: 1.2564 - val_mean_absolute_error: 0.8968\n",
            "Epoch 70/100\n",
            "\u001b[1m250/250\u001b[0m \u001b[32m━━━━━━━━━━━━━━━━━━━━\u001b[0m\u001b[37m\u001b[0m \u001b[1m1s\u001b[0m 3ms/step - loss: 0.4839 - mean_absolute_error: 0.4569 - val_loss: 0.4074 - val_mean_absolute_error: 0.5379\n",
            "Epoch 71/100\n",
            "\u001b[1m250/250\u001b[0m \u001b[32m━━━━━━━━━━━━━━━━━━━━\u001b[0m\u001b[37m\u001b[0m \u001b[1m1s\u001b[0m 3ms/step - loss: 0.2960 - mean_absolute_error: 0.3668 - val_loss: 0.1029 - val_mean_absolute_error: 0.1408\n",
            "Epoch 72/100\n",
            "\u001b[1m250/250\u001b[0m \u001b[32m━━━━━━━━━━━━━━━━━━━━\u001b[0m\u001b[37m\u001b[0m \u001b[1m1s\u001b[0m 4ms/step - loss: 0.0875 - mean_absolute_error: 0.1158 - val_loss: 0.2210 - val_mean_absolute_error: 0.2915\n",
            "Epoch 73/100\n",
            "\u001b[1m250/250\u001b[0m \u001b[32m━━━━━━━━━━━━━━━━━━━━\u001b[0m\u001b[37m\u001b[0m \u001b[1m1s\u001b[0m 4ms/step - loss: 0.3697 - mean_absolute_error: 0.4306 - val_loss: 8.8687 - val_mean_absolute_error: 2.4580\n",
            "Epoch 74/100\n",
            "\u001b[1m250/250\u001b[0m \u001b[32m━━━━━━━━━━━━━━━━━━━━\u001b[0m\u001b[37m\u001b[0m \u001b[1m1s\u001b[0m 2ms/step - loss: 2.7251 - mean_absolute_error: 0.9760 - val_loss: 0.0945 - val_mean_absolute_error: 0.1083\n",
            "Epoch 75/100\n",
            "\u001b[1m250/250\u001b[0m \u001b[32m━━━━━━━━━━━━━━━━━━━━\u001b[0m\u001b[37m\u001b[0m \u001b[1m1s\u001b[0m 2ms/step - loss: 0.1061 - mean_absolute_error: 0.1538 - val_loss: 0.1396 - val_mean_absolute_error: 0.2376\n",
            "Epoch 76/100\n",
            "\u001b[1m250/250\u001b[0m \u001b[32m━━━━━━━━━━━━━━━━━━━━\u001b[0m\u001b[37m\u001b[0m \u001b[1m1s\u001b[0m 2ms/step - loss: 0.1298 - mean_absolute_error: 0.1991 - val_loss: 0.1415 - val_mean_absolute_error: 0.2172\n",
            "Epoch 77/100\n",
            "\u001b[1m250/250\u001b[0m \u001b[32m━━━━━━━━━━━━━━━━━━━━\u001b[0m\u001b[37m\u001b[0m \u001b[1m1s\u001b[0m 2ms/step - loss: 0.1190 - mean_absolute_error: 0.1796 - val_loss: 0.0801 - val_mean_absolute_error: 0.0466\n",
            "Epoch 78/100\n",
            "\u001b[1m250/250\u001b[0m \u001b[32m━━━━━━━━━━━━━━━━━━━━\u001b[0m\u001b[37m\u001b[0m \u001b[1m1s\u001b[0m 2ms/step - loss: 0.2894 - mean_absolute_error: 0.3013 - val_loss: 0.4134 - val_mean_absolute_error: 0.5344\n",
            "Epoch 79/100\n",
            "\u001b[1m250/250\u001b[0m \u001b[32m━━━━━━━━━━━━━━━━━━━━\u001b[0m\u001b[37m\u001b[0m \u001b[1m1s\u001b[0m 2ms/step - loss: 0.2243 - mean_absolute_error: 0.3080 - val_loss: 0.0763 - val_mean_absolute_error: 0.0348\n",
            "Epoch 80/100\n",
            "\u001b[1m250/250\u001b[0m \u001b[32m━━━━━━━━━━━━━━━━━━━━\u001b[0m\u001b[37m\u001b[0m \u001b[1m1s\u001b[0m 2ms/step - loss: 0.0744 - mean_absolute_error: 0.0847 - val_loss: 0.2853 - val_mean_absolute_error: 0.3671\n",
            "Epoch 81/100\n",
            "\u001b[1m250/250\u001b[0m \u001b[32m━━━━━━━━━━━━━━━━━━━━\u001b[0m\u001b[37m\u001b[0m \u001b[1m1s\u001b[0m 2ms/step - loss: 3.0855 - mean_absolute_error: 1.2028 - val_loss: 0.0781 - val_mean_absolute_error: 0.0503\n",
            "Epoch 82/100\n",
            "\u001b[1m250/250\u001b[0m \u001b[32m━━━━━━━━━━━━━━━━━━━━\u001b[0m\u001b[37m\u001b[0m \u001b[1m1s\u001b[0m 2ms/step - loss: 0.0590 - mean_absolute_error: 0.0315 - val_loss: 0.0778 - val_mean_absolute_error: 0.0564\n",
            "Epoch 83/100\n",
            "\u001b[1m250/250\u001b[0m \u001b[32m━━━━━━━━━━━━━━━━━━━━\u001b[0m\u001b[37m\u001b[0m \u001b[1m1s\u001b[0m 2ms/step - loss: 0.0591 - mean_absolute_error: 0.0331 - val_loss: 0.0788 - val_mean_absolute_error: 0.0628\n",
            "Epoch 84/100\n",
            "\u001b[1m250/250\u001b[0m \u001b[32m━━━━━━━━━━━━━━━━━━━━\u001b[0m\u001b[37m\u001b[0m \u001b[1m1s\u001b[0m 4ms/step - loss: 0.1222 - mean_absolute_error: 0.1516 - val_loss: 0.2879 - val_mean_absolute_error: 0.3884\n",
            "Epoch 85/100\n",
            "\u001b[1m250/250\u001b[0m \u001b[32m━━━━━━━━━━━━━━━━━━━━\u001b[0m\u001b[37m\u001b[0m \u001b[1m1s\u001b[0m 4ms/step - loss: 0.1524 - mean_absolute_error: 0.1962 - val_loss: 0.0884 - val_mean_absolute_error: 0.1083\n",
            "Epoch 86/100\n",
            "\u001b[1m250/250\u001b[0m \u001b[32m━━━━━━━━━━━━━━━━━━━━\u001b[0m\u001b[37m\u001b[0m \u001b[1m1s\u001b[0m 4ms/step - loss: 0.0754 - mean_absolute_error: 0.0970 - val_loss: 0.1348 - val_mean_absolute_error: 0.2107\n",
            "Epoch 87/100\n",
            "\u001b[1m250/250\u001b[0m \u001b[32m━━━━━━━━━━━━━━━━━━━━\u001b[0m\u001b[37m\u001b[0m \u001b[1m1s\u001b[0m 3ms/step - loss: 0.9122 - mean_absolute_error: 0.6000 - val_loss: 1.1817 - val_mean_absolute_error: 0.8652\n",
            "Epoch 88/100\n",
            "\u001b[1m250/250\u001b[0m \u001b[32m━━━━━━━━━━━━━━━━━━━━\u001b[0m\u001b[37m\u001b[0m \u001b[1m1s\u001b[0m 2ms/step - loss: 0.4735 - mean_absolute_error: 0.4161 - val_loss: 0.0717 - val_mean_absolute_error: 0.0179\n",
            "Epoch 89/100\n",
            "\u001b[1m250/250\u001b[0m \u001b[32m━━━━━━━━━━━━━━━━━━━━\u001b[0m\u001b[37m\u001b[0m \u001b[1m1s\u001b[0m 3ms/step - loss: 0.0584 - mean_absolute_error: 0.0306 - val_loss: 0.0713 - val_mean_absolute_error: 0.0133\n",
            "Epoch 90/100\n",
            "\u001b[1m250/250\u001b[0m \u001b[32m━━━━━━━━━━━━━━━━━━━━\u001b[0m\u001b[37m\u001b[0m \u001b[1m1s\u001b[0m 2ms/step - loss: 0.0582 - mean_absolute_error: 0.0251 - val_loss: 0.0865 - val_mean_absolute_error: 0.1069\n",
            "Epoch 91/100\n",
            "\u001b[1m250/250\u001b[0m \u001b[32m━━━━━━━━━━━━━━━━━━━━\u001b[0m\u001b[37m\u001b[0m \u001b[1m1s\u001b[0m 3ms/step - loss: 0.0643 - mean_absolute_error: 0.0678 - val_loss: 0.0726 - val_mean_absolute_error: 0.0426\n",
            "Epoch 92/100\n",
            "\u001b[1m250/250\u001b[0m \u001b[32m━━━━━━━━━━━━━━━━━━━━\u001b[0m\u001b[37m\u001b[0m \u001b[1m1s\u001b[0m 3ms/step - loss: 0.1031 - mean_absolute_error: 0.1101 - val_loss: 0.1027 - val_mean_absolute_error: 0.1701\n",
            "Epoch 93/100\n",
            "\u001b[1m250/250\u001b[0m \u001b[32m━━━━━━━━━━━━━━━━━━━━\u001b[0m\u001b[37m\u001b[0m \u001b[1m1s\u001b[0m 2ms/step - loss: 0.1015 - mean_absolute_error: 0.1315 - val_loss: 1.1938 - val_mean_absolute_error: 0.9822\n",
            "Epoch 94/100\n",
            "\u001b[1m250/250\u001b[0m \u001b[32m━━━━━━━━━━━━━━━━━━━━\u001b[0m\u001b[37m\u001b[0m \u001b[1m1s\u001b[0m 3ms/step - loss: 0.2249 - mean_absolute_error: 0.2799 - val_loss: 0.9358 - val_mean_absolute_error: 0.7903\n",
            "Epoch 95/100\n",
            "\u001b[1m250/250\u001b[0m \u001b[32m━━━━━━━━━━━━━━━━━━━━\u001b[0m\u001b[37m\u001b[0m \u001b[1m1s\u001b[0m 2ms/step - loss: 0.4066 - mean_absolute_error: 0.4237 - val_loss: 0.0799 - val_mean_absolute_error: 0.0958\n",
            "Epoch 96/100\n",
            "\u001b[1m250/250\u001b[0m \u001b[32m━━━━━━━━━━━━━━━━━━━━\u001b[0m\u001b[37m\u001b[0m \u001b[1m1s\u001b[0m 3ms/step - loss: 0.2819 - mean_absolute_error: 0.2782 - val_loss: 2.4813 - val_mean_absolute_error: 1.5059\n",
            "Epoch 97/100\n",
            "\u001b[1m250/250\u001b[0m \u001b[32m━━━━━━━━━━━━━━━━━━━━\u001b[0m\u001b[37m\u001b[0m \u001b[1m1s\u001b[0m 4ms/step - loss: 0.2523 - mean_absolute_error: 0.2932 - val_loss: 0.1104 - val_mean_absolute_error: 0.1675\n",
            "Epoch 98/100\n",
            "\u001b[1m250/250\u001b[0m \u001b[32m━━━━━━━━━━━━━━━━━━━━\u001b[0m\u001b[37m\u001b[0m \u001b[1m2s\u001b[0m 5ms/step - loss: 0.1276 - mean_absolute_error: 0.2022 - val_loss: 0.1424 - val_mean_absolute_error: 0.2632\n",
            "Epoch 99/100\n",
            "\u001b[1m250/250\u001b[0m \u001b[32m━━━━━━━━━━━━━━━━━━━━\u001b[0m\u001b[37m\u001b[0m \u001b[1m1s\u001b[0m 4ms/step - loss: 0.5254 - mean_absolute_error: 0.5123 - val_loss: 0.0697 - val_mean_absolute_error: 0.0215\n",
            "Epoch 100/100\n",
            "\u001b[1m250/250\u001b[0m \u001b[32m━━━━━━━━━━━━━━━━━━━━\u001b[0m\u001b[37m\u001b[0m \u001b[1m1s\u001b[0m 3ms/step - loss: 0.0839 - mean_absolute_error: 0.1148 - val_loss: 0.1454 - val_mean_absolute_error: 0.2323\n"
          ]
        }
      ]
    },
    {
      "cell_type": "markdown",
      "source": [
        "## **9. Evaluating the Model**"
      ],
      "metadata": {
        "id": "uEPwdJcEI2yE"
      }
    },
    {
      "cell_type": "code",
      "source": [
        "test_loss, test_mae = model.evaluate(X_test, y_test, verbose=1)\n",
        "print(f\"Test Loss (Mean Squared Error): {test_loss:.2f}\")\n",
        "print(f\"Test Mean Absolute Error: {test_mae:.2f}\")\n"
      ],
      "metadata": {
        "colab": {
          "base_uri": "https://localhost:8080/"
        },
        "id": "Ki7QaM_uI_eb",
        "outputId": "0058f069-3f8b-4ba7-adfe-ee139c83f369"
      },
      "execution_count": 10,
      "outputs": [
        {
          "output_type": "stream",
          "name": "stdout",
          "text": [
            "\u001b[1m84/84\u001b[0m \u001b[32m━━━━━━━━━━━━━━━━━━━━\u001b[0m\u001b[37m\u001b[0m \u001b[1m0s\u001b[0m 1ms/step - loss: 0.1879 - mean_absolute_error: 0.2385\n",
            "Test Loss (MSE): 0.17\n",
            "Test MAE: 0.24\n"
          ]
        }
      ]
    },
    {
      "cell_type": "markdown",
      "source": [
        "## **10. Saving the Model**"
      ],
      "metadata": {
        "id": "uhVosouZJBZ6"
      }
    },
    {
      "cell_type": "code",
      "source": [
        "model.save('regression_model.h5')\n"
      ],
      "metadata": {
        "colab": {
          "base_uri": "https://localhost:8080/"
        },
        "id": "2YvFDULDJCzV",
        "outputId": "a3540c88-656f-48a4-bccd-970cd83b6bb1"
      },
      "execution_count": 11,
      "outputs": [
        {
          "output_type": "stream",
          "name": "stderr",
          "text": [
            "WARNING:absl:You are saving your model as an HDF5 file via `model.save()` or `keras.saving.save_model(model)`. This file format is considered legacy. We recommend using instead the native Keras format, e.g. `model.save('my_model.keras')` or `keras.saving.save_model(model, 'my_model.keras')`. \n"
          ]
        }
      ]
    }
  ]
}